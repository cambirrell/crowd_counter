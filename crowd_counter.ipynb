{
 "cells": [
  {
   "cell_type": "markdown",
   "metadata": {},
   "source": [
    "## Crowd Counter Model\n",
    "Import needed libraries"
   ]
  },
  {
   "cell_type": "code",
   "execution_count": 2,
   "metadata": {},
   "outputs": [],
   "source": [
    "import math\n",
    "import matplotlib.pyplot as plt\n",
    "import numpy as np\n",
    "import pandas as pd\n",
    "import os\n",
    "from tqdm import tqdm\n",
    "import torch\n",
    "import torch.nn as nn\n",
    "import torch.nn.functional as F\n",
    "from torch.optim import AdamW\n",
    "from torch.utils.data import DataLoader\n",
    "import torchvision\n",
    "import torchvision.models as models\n",
    "from torchvision import datasets, transforms\n",
    "from torch.utils.data import DataLoader\n",
    "from torchvision.transforms import Compose, Resize, Lambda, ToTensor\n",
    "import warnings\n",
    "# Suppress the specific UserWarning\n",
    "warnings.filterwarnings(\"ignore\", message=\"The default value of the antialias parameter.*\", category=UserWarning)\n",
    "\n",
    "device = torch.device(\"cuda:10\") if torch.cuda.is_available() else torch.device(\"cpu\")"
   ]
  },
  {
   "cell_type": "code",
   "execution_count": 50,
   "metadata": {},
   "outputs": [],
   "source": [
    "# Define the transformation for the images (you can customize this based on your needs)\n",
    "test_size = (512,512)\n",
    "out_size = (64,64)\n",
    "\n",
    "transform = transforms.Compose([\n",
    "    transforms.ToTensor(),\n",
    "    transforms.Resize(test_size),\n",
    "])\n",
    "\n",
    "# Define a custom dataset class\n",
    "class CrowdDataset(torch.utils.data.Dataset):\n",
    "    def __init__(self, root='jhu_crowd_v2.0/', split='train', transform=None):\n",
    "        self.input_folder = os.path.join(root, split, 'images')\n",
    "        self.output_folder = os.path.join(root, split, 'den')\n",
    "        self.input_dataset = datasets.ImageFolder(self.input_folder, transform=transform)\n",
    "        self.classes = self.input_dataset.classes\n",
    "        self.indices = list(range(len(self.input_dataset)))\n",
    "\n",
    "    def __getitem__(self, index):\n",
    "        # Load input image\n",
    "        input_data = self.input_dataset[self.indices[index]][0]  # [0] to get the data (image)\n",
    "\n",
    "        # Load output data from CSV file\n",
    "        image_name = os.path.basename(self.input_dataset.imgs[self.indices[index]][0])\n",
    "        csv_path = os.path.join(self.output_folder, f\"{image_name.replace('.jpg', '.csv')}\")\n",
    "        df = pd.read_csv(csv_path, header=None)\n",
    "        original_data = torch.tensor(df.values).float()\n",
    "        resized_tensor = F.interpolate(original_data.unsqueeze(0).unsqueeze(0), size=out_size, mode='bilinear', align_corners=False)\n",
    "        resized_tensor = resized_tensor.squeeze(0).squeeze(0)\n",
    "        output_data = resized_tensor * (original_data.sum() / resized_tensor.sum())\n",
    "        return {'input': input_data, 'output': output_data}\n",
    "\n",
    "\n",
    "    def __len__(self):\n",
    "        return len(self.indices)\n"
   ]
  },
  {
   "cell_type": "code",
   "execution_count": 51,
   "metadata": {},
   "outputs": [],
   "source": [
    "train_dataset = CrowdDataset(split='train', transform=transform)\n",
    "val_dataset = CrowdDataset(split='val', transform=None)\n",
    "test_dataset = CrowdDataset(split='test', transform=None)"
   ]
  },
  {
   "cell_type": "code",
   "execution_count": 52,
   "metadata": {},
   "outputs": [],
   "source": [
    "#make a dataloader\n",
    "train_dataloader = DataLoader(train_dataset, batch_size=8, shuffle=True)\n",
    "val_dataloader = DataLoader(val_dataset, batch_size=8, shuffle=False)\n",
    "test_dataloader = DataLoader(test_dataset, batch_size=8, shuffle=False)"
   ]
  },
  {
   "cell_type": "code",
   "execution_count": 53,
   "metadata": {},
   "outputs": [
    {
     "name": "stdout",
     "output_type": "stream",
     "text": [
      "torch.Size([8, 3, 512, 512]) torch.Size([8, 64, 64])\n",
      "torch.Size([8, 3, 512, 512]) torch.Size([8, 64, 64])\n",
      "torch.Size([8, 3, 512, 512]) torch.Size([8, 64, 64])\n",
      "torch.Size([8, 3, 512, 512]) torch.Size([8, 64, 64])\n",
      "torch.Size([8, 3, 512, 512]) torch.Size([8, 64, 64])\n",
      "torch.Size([8, 3, 512, 512]) torch.Size([8, 64, 64])\n",
      "torch.Size([8, 3, 512, 512]) torch.Size([8, 64, 64])\n",
      "torch.Size([8, 3, 512, 512]) torch.Size([8, 64, 64])\n",
      "torch.Size([8, 3, 512, 512]) torch.Size([8, 64, 64])\n",
      "torch.Size([8, 3, 512, 512]) torch.Size([8, 64, 64])\n"
     ]
    }
   ],
   "source": [
    "#loop throough first 10 batches\n",
    "for i, batch in enumerate(train_dataloader):\n",
    "    if i == 10:\n",
    "        break\n",
    "    print(batch['input'].shape, batch['output'].shape)"
   ]
  },
  {
   "cell_type": "code",
   "execution_count": null,
   "metadata": {},
   "outputs": [],
   "source": [
    "class UrebBlock(nn.Module):\n",
    "    def __init__(self, in_channels):\n",
    "        super(UrebBlock, self).__init__()\n",
    "        self.CB = nn.Sequential(\n",
    "            nn.Conv2d(in_channels, 32, kernel_size=1),\n",
    "            nn.ReLU(),\n",
    "            nn.Conv2d(32, 32, kernel_size=3, padding=1),  # Add padding to keep the spatial dimensions\n",
    "            nn.ReLU(),\n",
    "            nn.Conv2d(32, 1, kernel_size=3, padding=1),   # Add padding to keep the spatial dimensions\n",
    "        )\n",
    "        self.DR = nn.Sequential(\n",
    "            nn.Conv2d(in_channels, 32, kernel_size=1),\n",
    "            nn.ReLU(),\n",
    "            nn.Conv2d(32, 32, kernel_size=3, padding=1),  # Add padding to keep the spatial dimensions\n",
    "        )\n",
    "        self.CEB = nn.Sequential(\n",
    "            nn.Conv2d(33, 32, kernel_size=1),\n",
    "            nn.ReLU(),\n",
    "            nn.Conv2d(32, 16, kernel_size=3, padding=1),  # Add padding to keep the spatial dimensions\n",
    "            nn.ReLU(),\n",
    "            nn.Conv2d(16, 16, kernel_size=3, padding=1),   # Add padding to keep the spatial dimensions\n",
    "            nn.ReLU(),\n",
    "            nn.Conv2d(16, 1, kernel_size=3, padding=1),   # Add padding to keep the spatial dimensions\n",
    "        )\n",
    "    def forward(self, x):\n",
    "        r = self.CB(x)\n",
    "        cm = self.CEB(torch.cat((r, self.DR(x)), dim=1))\n",
    "        return cm * r\n",
    "        "
   ]
  },
  {
   "cell_type": "code",
   "execution_count": 6,
   "metadata": {},
   "outputs": [],
   "source": [
    "class VGGadjusted(nn.Module):\n",
    "    def __init__(self):\n",
    "        super(VGGadjusted, self).__init__()\n",
    "        self.vgg = models.vgg16(pretrained=True).features\n",
    "        self.C3 = self.vgg[:17]\n",
    "        self.C4 = self.vgg[17:24]\n",
    "        self.C5 = self.vgg[24:]\n",
    "        self.C6 = nn.Sequential(\n",
    "            nn.Conv2d(512, 32, kernel_size=1),\n",
    "            nn.ReLU(),\n",
    "            nn.Conv2d(32, 32, kernel_size=3, padding=1),  # Add padding to keep the spatial dimensions\n",
    "            nn.ReLU(),\n",
    "            nn.Conv2d(32, 1, kernel_size=3, padding=1),   # Add padding to keep the spatial dimensions\n",
    "            nn.Upsample(size=(16, 16), mode='bilinear', align_corners=False)\n",
    "        )\n",
    "        self.ureb3 = UrebBlock(256)\n",
    "        self.ureb4 = UrebBlock(512)\n",
    "        self.ureb5 = UrebBlock(512)\n",
    "\n",
    "        self.y5_upsample = nn.Upsample(size=(32, 32), mode='bilinear', align_corners=False)\n",
    "        self.y4_upsample = nn.Upsample(size=(64, 64), mode='bilinear', align_corners=False)\n",
    "\n",
    "    def forward(self, x):\n",
    "        c3 = self.C3(x)\n",
    "        r3 = self.ureb3(c3)\n",
    "        c4 = self.C4(c3)\n",
    "        r4 = self.ureb4(c4)\n",
    "        c5 = self.C5(c4)\n",
    "        r5 = self.ureb5(c5)\n",
    "        y6 = self.C6(c5)\n",
    "        y5 = self.y6_upsample(y6) + r5\n",
    "        y4 = self.y5_upsample(y5) + r4\n",
    "        y3 = self.y4_upsample(y4) + r3\n",
    "        out = {'y3': y3, 'y4': y4, 'y5': y5, 'y6': y6, 'cm3': r3, 'cm4': r4, 'cm5': r5, }\n",
    "        return out\n",
    "\n"
   ]
  },
  {
   "cell_type": "code",
   "execution_count": 7,
   "metadata": {},
   "outputs": [
    {
     "name": "stderr",
     "output_type": "stream",
     "text": [
      "/usr/local/lib/python3.8/dist-packages/torchvision/models/_utils.py:208: UserWarning: The parameter 'pretrained' is deprecated since 0.13 and may be removed in the future, please use 'weights' instead.\n",
      "  warnings.warn(\n",
      "/usr/local/lib/python3.8/dist-packages/torchvision/models/_utils.py:223: UserWarning: Arguments other than a weight enum or `None` for 'weights' are deprecated since 0.13 and may be removed in the future. The current behavior is equivalent to passing `weights=None`.\n",
      "  warnings.warn(msg)\n"
     ]
    }
   ],
   "source": [
    "vgg = models.vgg16(pretrained=False).eval()"
   ]
  },
  {
   "cell_type": "code",
   "execution_count": 39,
   "metadata": {},
   "outputs": [
    {
     "name": "stdout",
     "output_type": "stream",
     "text": [
      "torch.Size([1, 3, 512, 512])\n",
      "torch.Size([1, 256, 64, 64])\n",
      "torch.Size([1, 512, 32, 32])\n",
      "torch.Size([1, 512, 16, 16])\n",
      "torch.Size([1, 1, 16, 16])\n"
     ]
    },
    {
     "data": {
      "image/png": "[encoded data removed]",
      "text/plain": [
       "<Figure size 640x480 with 1 Axes>"
      ]
     },
     "metadata": {},
     "output_type": "display_data"
    },
    {
     "data": {
      "text/plain": [
       "4903.78662109375"
      ]
     },
     "execution_count": 39,
     "metadata": {},
     "output_type": "execute_result"
    }
   ],
   "source": [
    "\n",
    "test = torch.rand(1, 3, 512, 512)\n",
    "print(test.shape)\n",
    "lay_1 = vgg.features[:17] \n",
    "lay_2 = vgg.features[17:24] \n",
    "lay_3 = vgg.features[24:] \n",
    "\n",
    "lay_4 = nn.Sequential(\n",
    "    nn.Conv2d(512, 32, kernel_size=1),\n",
    "    nn.ReLU(),\n",
    "    nn.Conv2d(32, 32, kernel_size=3, padding=1),  # Add padding to keep the spatial dimensions\n",
    "    nn.ReLU(),\n",
    "    nn.Conv2d(32, 1, kernel_size=3, padding=1),   # Add padding to keep the spatial dimensions\n",
    "    nn.Upsample(size=(16, 16), mode='bilinear', align_corners=False)  # Upsample to the desired size\n",
    "    )\n",
    "\n",
    "U_REB_CB = nn.Sequential(\n",
    "    nn.Conv2d(512, 32, kernel_size=1),\n",
    "    nn.ReLU(),\n",
    "    nn.Conv2d(32, 32, kernel_size=3, padding=1),  # Add padding to keep the spatial dimensions\n",
    "    nn.ReLU(),\n",
    "    nn.Conv2d(32, 1, kernel_size=3, padding=1),   # Add padding to keep the spatial dimensions\n",
    ")\n",
    "# reduced the number of channels from 512 to 32 in U_REB_DR\n",
    "U_REB_DR = nn.Sequential(\n",
    "    nn.Conv2d(512, 32, kernel_size=1),\n",
    "    nn.ReLU(),\n",
    "    nn.Conv2d(32, 32, kernel_size=3, padding=1),  # Add padding to keep the spatial dimensions\n",
    ")\n",
    "\n",
    "\n",
    "U_REB_CEB = nn.Sequential(\n",
    "    nn.Conv2d(33, 32, kernel_size=1),\n",
    "    nn.ReLU(),\n",
    "    nn.Conv2d(32, 16, kernel_size=3, padding=1),  # Add padding to keep the spatial dimensions\n",
    "    nn.ReLU(),\n",
    "    nn.Conv2d(16, 16, kernel_size=3, padding=1),   # Add padding to keep the spatial dimensions\n",
    "    nn.ReLU(),\n",
    "    nn.Conv2d(16, 1, kernel_size=3, padding=1),   # Add padding to keep the spatial dimensions\n",
    ")\n",
    "\n",
    "\n",
    "test_1 = lay_1(test)\n",
    "print(test_1.shape)\n",
    "test_2 = lay_2(test_1)\n",
    "print(test_2.shape)\n",
    "test_3 = lay_3(test_2)\n",
    "print(test_3.shape)\n",
    "test_4 = lay_4(test_3)\n",
    "print(test_4.shape)\n",
    "\n",
    "# make test_4 into an image\n",
    "up = nn.Upsample(size=(512, 512), mode='bilinear', align_corners=False)\n",
    "test_4 = up(test_4)\n",
    "test_4 = test_4.squeeze().detach().numpy()\n",
    "\n",
    "plt.imshow(test_4, cmap='viridis')\n",
    "plt.show()\n",
    "\n",
    "torch.tensor(test_4).unsqueeze(0).unsqueeze(0).sum().item()\n",
    "# test_4.shape\n",
    "# test_3\n",
    "\n",
    "# r_3 = U_REB_CB(test_3)\n",
    "# print(r_3.shape)\n",
    "\n",
    "# R_hat = U_REB_CEB(torch.cat((U_REB_DR(test_3), r_3), dim=1)) * r_3\n",
    "\n",
    "\n"
   ]
  },
  {
   "cell_type": "code",
   "execution_count": 16,
   "metadata": {},
   "outputs": [
    {
     "data": {
      "text/plain": [
       "torch.Size([1, 256, 28, 28])"
      ]
     },
     "execution_count": 16,
     "metadata": {},
     "output_type": "execute_result"
    }
   ],
   "source": [
    "test = torch.ones(1, 3, 224, 224)\n",
    "\n",
    "lay_1 = vgg.features[:17]\n",
    "\n",
    "lay_1(test).shape"
   ]
  },
  {
   "cell_type": "code",
   "execution_count": null,
   "metadata": {},
   "outputs": [],
   "source": [
    "def loss_fn(y_hat, y):\n",
    "    lambda_c = 0.1\n",
    "    cm_keys = ['cm3', 'cm4', 'cm5']\n",
    "    y_keys = ['y3', 'y4', 'y5']\n",
    "    loss_C = sum(torch.log(y_hat[cm_key]).sum() for cm_key in cm_keys)\n",
    "    loss_d = sum(F.mse_loss(y_hat[cm_key] * y_hat[y_key], y_hat[cm_key] * y) for y_key, cm_key in list(zip(y_keys, cm_keys)))\n",
    "    return loss_C + lambda_c * loss_d\n"
   ]
  },
  {
   "cell_type": "code",
   "execution_count": null,
   "metadata": {},
   "outputs": [],
   "source": [
    "optimizer = AdamW(vgg.parameters(), lr=1e-4)\n",
    "criterion = nn.MSELoss()\n",
    "epochs = 1\n",
    "loop = tqdm(total=len(train_dataloader)*epochs, position=0, leave=False)\n",
    "val_loss = []\n",
    "train_loss = []"
   ]
  },
  {
   "cell_type": "code",
   "execution_count": null,
   "metadata": {},
   "outputs": [],
   "source": [
    "def training():\n",
    "    vgg.train()\n",
    "    checkpoint = {\n",
    "        'epoch': 0,\n",
    "        'model_state_dict': vgg.state_dict(),\n",
    "        'optimizer_state_dict': optimizer.state_dict(),\n",
    "        'loss': 0.0,\n",
    "    }\n",
    "    for epoch in range(epochs):\n",
    "        for i, batch in enumerate(train_dataloader):\n",
    "            optimizer.zero_grad()\n",
    "            input_data = batch['input'].to(device)\n",
    "            output_data = batch['output'].to(device)\n",
    "            output_pred = vgg(input_data)\n",
    "            loss = criterion(output_pred, output_data)\n",
    "            loss.backward()\n",
    "            if i % 100 == 0:\n",
    "                train_loss.append(loss.item())\n",
    "                \n",
    "                val_loss.append()\n",
    "            optimizer.step()\n",
    "            loop.set_description(f\"Epoch [{epoch}/{epochs}]\")\n",
    "            loop.set_postfix(loss=loss.item())\n",
    "            loop.update(1)\n",
    "        checkpoint['epoch'] = epoch\n",
    "        checkpoint['model_state_dict'] = vgg.state_dict()\n",
    "        checkpoint['optimizer_state_dict'] = optimizer.state_dict()\n",
    "        checkpoint['loss'] = loss.item()\n",
    "        torch.save(checkpoint, f'checkpoint_{epoch}.pth')\n",
    "    loop.close()"
   ]
  },
  {
   "cell_type": "code",
   "execution_count": null,
   "metadata": {},
   "outputs": [],
   "source": [
    "#plot val loss\n",
    "plt.plot(val_loss)\n",
    "#plot train loss\n",
    "plt.plot(train_loss)\n",
    "plt.show()"
   ]
  }
 ],
 "metadata": {
  "kernelspec": {
   "display_name": "Python 3",
   "language": "python",
   "name": "python3"
  },
  "language_info": {
   "codemirror_mode": {
    "name": "ipython",
    "version": 3
   },
   "file_extension": ".py",
   "mimetype": "text/x-python",
   "name": "python",
   "nbconvert_exporter": "python",
   "pygments_lexer": "ipython3",
   "version": "3.8.10"
  }
 },
 "nbformat": 4,
 "nbformat_minor": 2
}
